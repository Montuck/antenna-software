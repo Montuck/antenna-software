{
 "cells": [
  {
   "cell_type": "markdown",
   "metadata": {},
   "source": [
    "1. Implement the method of moments for Hall´en’s integral equation. Use the method of moments to compute the\n",
    "current distribution on a half-wave dipole. Plot the magnitude of the current along the antenna together with the\n",
    "sinusoidal current model.\n",
    "To accomplish this equations 3.30, 3.34, 3.35 were calculated. Then using 3.36 the current segments along the dipole is\n",
    "solved using <linalg.solve> for ."
   ]
  },
  {
   "cell_type": "code",
   "execution_count": null,
   "metadata": {},
   "outputs": [],
   "source": [
    "import numpy as np\n",
    "import matplotlib.pyplot as plt\n",
    "# Variable setup\n",
    "f = 300e6 # Frequency of operation\n",
    "lam = 3e8 / f # Wavelength\n",
    "k = 2 * np.pi / lam # Wave number\n",
    "l = lam / 2 # Antenna length\n",
    "a = 0.001 # Wire radius\n",
    "points = 150 # Number of test functions\n",
    "max_eq = 168 # Maximum number of equations\n",
    "N = np.linspace(0, max_eq, points) # Discrete points\n",
    "dz = (l / 2) / (max_eq + 1)\n",
    "z = (N - 0.5) * dz # Corrected midpoint calculation\n",
    "# Calculate R and Z\n",
    "Z_pos = np.zeros((points, points), dtype=np.complex128)\n",
    "Z_neg = np.zeros((points, points), dtype=np.complex128)\n",
    "for m in range(points):\n",
    "    for n in range(points):\n",
    "        R = np.sqrt(a**2 + (z[m] - z[n])**2)\n",
    "        Z_pos[m, n] = np.exp(1j * k * R) / (4 * np.pi * R)\n",
    "        R = np.sqrt(a**2 + (z[m] + z[n])**2)\n",
    "        Z_neg[m, n] = np.exp(1j * k * R) / (4 * np.pi * R)\n",
    "# Construct impedance matrix Zmn\n",
    "Zmn = Z_pos + Z_neg\n",
    "# Define constants for solving for x\n",
    "mu = 1\n",
    "epsilon = 8.854e-12\n",
    "omega = 2 * np.pi * f\n",
    "B = 1\n",
    "Vi = -(1j) * np.sqrt(mu * epsilon) * k * 2 * B / (-1j * omega * mu * epsilon)\n",
    "eta = 377 # Intrinsic impedance of free space\n",
    "# Define cos and sin terms\n",
    "cos = (1j / eta) * np.cos(k * z) # Basis function (column vector)\n",
    "sin = (-1j * Vi / (2 * eta)) * np.sin(k * z) # Testing function (column vector)\n",
    "# Reshape sin to be a column vector\n",
    "B = sin.reshape(-1, 1)\n",
    "# matrix multiplication\n",
    "A = Zmn * cos\n",
    "# Solve for c\n",
    "c = np.linalg.solve(A, B) # Solve only if matrix is not singular\n",
    "# Plot\n",
    "plt.plot(N, np.abs(c))\n",
    "plt.xlabel('N (Segment Index)')\n",
    "plt.ylabel('Current Magnitude')\n",
    "plt.title('Current Distribution on a Half-Wave Dipole')\n",
    "plt.grid()\n",
    "plt.show()"
   ]
  },
  {
   "cell_type": "markdown",
   "metadata": {},
   "source": [
    "2. Addpost-processing to compute the radiation pattern of the half-wave dipole from the current distribution. Plot this\n",
    "pattern together with the pattern approximations from the previous homework assignment.\n",
    "The radiation integral given at the end of lecture notes six is used to find the electric field"
   ]
  },
  {
   "cell_type": "code",
   "execution_count": null,
   "metadata": {},
   "outputs": [],
   "source": [
    "# Radiation integral\n",
    "r = 50\n",
    "theta = 45\n",
    "f_theta = sum(c*(np.exp(1j*k*z)+np.exp(1j*k*z))*dz)\n",
    "E = 1j*k*eta*np.exp(-1j*k*r)/(4*np.pi*r) * f_theta\n",
    "plt.plot(N,E)\n",
    "plt.xlabel('N (Segment Index)')\n",
    "plt.ylabel('Electric Field')\n",
    "plt.title('Radiation Integral on a Half-Wave Dipole')\n",
    "plt.grid()\n",
    "plt.show()\n",
    "plt.show()"
   ]
  },
  {
   "cell_type": "markdown",
   "metadata": {},
   "source": [
    "3. Compute the input impedance as a function of electrical length using the moment method. Plot both the real and\n",
    "imaginary parts. Add to the plot the radiation resistance from the sinusoidal current model. Set the range of axes\n",
    "sensibly so that important features of the curves are visible.\n",
    "Using equation 3.37 the input impedance is solved for and plotted."
   ]
  },
  {
   "cell_type": "code",
   "execution_count": null,
   "metadata": {},
   "outputs": [],
   "source": [
    "# Calculate input impedance Zin\n",
    "Zin = Vi / c\n",
    "# plot\n",
    "plt.plot(N,Zin)\n",
    "plt.xlabel('N (Segment Index)')\n",
    "plt.ylabel('Input Impedance')\n",
    "plt.title('Input Impedance on a Half Wavelength Dipole')\n",
    "plt.grid()\n",
    "plt.show()\n",
    "plt.show()"
   ]
  }
 ],
 "metadata": {
  "kernelspec": {
   "display_name": "Python 3",
   "language": "python",
   "name": "python3"
  },
  "language_info": {
   "codemirror_mode": {
    "name": "ipython",
    "version": 3
   },
   "file_extension": ".py",
   "mimetype": "text/x-python",
   "name": "python",
   "nbconvert_exporter": "python",
   "pygments_lexer": "ipython3",
   "version": "3.12.8"
  }
 },
 "nbformat": 4,
 "nbformat_minor": 2
}
