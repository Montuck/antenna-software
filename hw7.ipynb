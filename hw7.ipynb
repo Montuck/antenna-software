{
 "cells": [
  {
   "cell_type": "markdown",
   "metadata": {},
   "source": [
    "Implement the method of moments for Hall´en’s integral equation. Use the method of moments to compute the current distribution on a half-wave dipole. Plot the magnitude of the current along the antenna together with the sinusoidal current model."
   ]
  },
  {
   "cell_type": "code",
   "execution_count": 34,
   "metadata": {},
   "outputs": [
    {
     "name": "stderr",
     "output_type": "stream",
     "text": [
      "C:\\Users\\oblit\\AppData\\Local\\Temp\\ipykernel_11712\\2499805857.py:24: ComplexWarning: Casting complex values to real discards the imaginary part\n",
      "  Z_pos[m][n] = np.exp(1j*k*R)/(4*np.pi*R)\n",
      "C:\\Users\\oblit\\AppData\\Local\\Temp\\ipykernel_11712\\2499805857.py:26: ComplexWarning: Casting complex values to real discards the imaginary part\n",
      "  Z_neg[m][n] = np.exp(1j*k*R)/(4*np.pi*R)\n"
     ]
    },
    {
     "ename": "LinAlgError",
     "evalue": "Singular matrix",
     "output_type": "error",
     "traceback": [
      "\u001b[1;31m---------------------------------------------------------------------------\u001b[0m",
      "\u001b[1;31mLinAlgError\u001b[0m                               Traceback (most recent call last)",
      "Cell \u001b[1;32mIn[34], line 42\u001b[0m\n\u001b[0;32m     39\u001b[0m sin\u001b[38;5;241m.\u001b[39mtranspose()\n\u001b[0;32m     41\u001b[0m \u001b[38;5;66;03m# solve for c\u001b[39;00m\n\u001b[1;32m---> 42\u001b[0m c \u001b[38;5;241m=\u001b[39m \u001b[43mnp\u001b[49m\u001b[38;5;241;43m.\u001b[39;49m\u001b[43mlinalg\u001b[49m\u001b[38;5;241;43m.\u001b[39;49m\u001b[43msolve\u001b[49m\u001b[43m(\u001b[49m\u001b[43ma\u001b[49m\u001b[43m,\u001b[49m\u001b[43m \u001b[49m\u001b[43msin\u001b[49m\u001b[43m)\u001b[49m\n\u001b[0;32m     44\u001b[0m \u001b[38;5;66;03m# calculate Zin\u001b[39;00m\n\u001b[0;32m     45\u001b[0m Zin \u001b[38;5;241m=\u001b[39m Vi \u001b[38;5;241m/\u001b[39m c\n",
      "File \u001b[1;32m<__array_function__ internals>:200\u001b[0m, in \u001b[0;36msolve\u001b[1;34m(*args, **kwargs)\u001b[0m\n",
      "File \u001b[1;32m~\\AppData\\Local\\Packages\\PythonSoftwareFoundation.Python.3.11_qbz5n2kfra8p0\\LocalCache\\local-packages\\Python311\\site-packages\\numpy\\linalg\\linalg.py:386\u001b[0m, in \u001b[0;36msolve\u001b[1;34m(a, b)\u001b[0m\n\u001b[0;32m    384\u001b[0m signature \u001b[38;5;241m=\u001b[39m \u001b[38;5;124m'\u001b[39m\u001b[38;5;124mDD->D\u001b[39m\u001b[38;5;124m'\u001b[39m \u001b[38;5;28;01mif\u001b[39;00m isComplexType(t) \u001b[38;5;28;01melse\u001b[39;00m \u001b[38;5;124m'\u001b[39m\u001b[38;5;124mdd->d\u001b[39m\u001b[38;5;124m'\u001b[39m\n\u001b[0;32m    385\u001b[0m extobj \u001b[38;5;241m=\u001b[39m get_linalg_error_extobj(_raise_linalgerror_singular)\n\u001b[1;32m--> 386\u001b[0m r \u001b[38;5;241m=\u001b[39m \u001b[43mgufunc\u001b[49m\u001b[43m(\u001b[49m\u001b[43ma\u001b[49m\u001b[43m,\u001b[49m\u001b[43m \u001b[49m\u001b[43mb\u001b[49m\u001b[43m,\u001b[49m\u001b[43m \u001b[49m\u001b[43msignature\u001b[49m\u001b[38;5;241;43m=\u001b[39;49m\u001b[43msignature\u001b[49m\u001b[43m,\u001b[49m\u001b[43m \u001b[49m\u001b[43mextobj\u001b[49m\u001b[38;5;241;43m=\u001b[39;49m\u001b[43mextobj\u001b[49m\u001b[43m)\u001b[49m\n\u001b[0;32m    388\u001b[0m \u001b[38;5;28;01mreturn\u001b[39;00m wrap(r\u001b[38;5;241m.\u001b[39mastype(result_t, copy\u001b[38;5;241m=\u001b[39m\u001b[38;5;28;01mFalse\u001b[39;00m))\n",
      "File \u001b[1;32m~\\AppData\\Local\\Packages\\PythonSoftwareFoundation.Python.3.11_qbz5n2kfra8p0\\LocalCache\\local-packages\\Python311\\site-packages\\numpy\\linalg\\linalg.py:89\u001b[0m, in \u001b[0;36m_raise_linalgerror_singular\u001b[1;34m(err, flag)\u001b[0m\n\u001b[0;32m     88\u001b[0m \u001b[38;5;28;01mdef\u001b[39;00m \u001b[38;5;21m_raise_linalgerror_singular\u001b[39m(err, flag):\n\u001b[1;32m---> 89\u001b[0m     \u001b[38;5;28;01mraise\u001b[39;00m LinAlgError(\u001b[38;5;124m\"\u001b[39m\u001b[38;5;124mSingular matrix\u001b[39m\u001b[38;5;124m\"\u001b[39m)\n",
      "\u001b[1;31mLinAlgError\u001b[0m: Singular matrix"
     ]
    }
   ],
   "source": [
    "import numpy as np\n",
    "import matplotlib.pyplot as plt\n",
    "\n",
    "# variable setup\n",
    "f = 300e6 #frequency of operation\n",
    "lam = 3e8/f #wavelength\n",
    "k = 2*np.pi / lam #wave number\n",
    "l = lam/2 #antenna length\n",
    "a = 0.001\n",
    "\n",
    "points = 5\n",
    "max = 168\n",
    "N = np.linspace(0,max,points) #number of equations\n",
    "\n",
    "dz = (l/2)/(max+1)\n",
    "z = (N-1/2)*dz\n",
    "\n",
    "# calculate R and Z\n",
    "Z_pos = np.zeros((points,points))\n",
    "Z_neg= np.zeros((points, points))\n",
    "for m in range(0,points-1):\n",
    "    for n in range(0,points-1):\n",
    "        R = np.sqrt(a**2 + (z[m] - z[n])**2)\n",
    "        Z_pos[m][n] = np.exp(1j*k*R)/(4*np.pi*R)\n",
    "        R = np.sqrt(a**2 + (z[m] + z[n])**2)\n",
    "        Z_neg[m][n] = np.exp(1j*k*R)/(4*np.pi*R)\n",
    "\n",
    "# setup fto solve for x\n",
    "Zmn = Z_pos + Z_neg\n",
    "mu = 1\n",
    "epsilon = 8.854e-12\n",
    "omega = 2*np.pi*f\n",
    "B = 1\n",
    "Vi =  -(1j)*np.sqrt(mu*epsilon)*k*2*B/(-1j*omega*mu*epsilon)\n",
    "eta = 377\n",
    "cos = np.array((1j/eta)*np.cos(k*z)) \n",
    "sin = np.array((-1j*Vi/(2*eta))*np.sin(k*z))\n",
    "a = Zmn*cos\n",
    "sin.transpose()\n",
    "\n",
    "# solve for c\n",
    "c = np.linalg.solve(a, sin)\n",
    "\n",
    "# calculate Zin\n",
    "Zin = Vi / c\n",
    "\n",
    "# plot\n",
    "plt.plot(N,Zin)\n",
    "plt.xlabel('N')\n",
    "plt.ylabel('Current Distribution')\n",
    "plt.title('Current Density Plot')\n",
    "plt.grid()\n",
    "plt.show()"
   ]
  },
  {
   "cell_type": "markdown",
   "metadata": {},
   "source": [
    "Addpost-processing to compute the radiation pattern of the half-wave dipole from the current distribution. Plot this pattern together with the pattern approximations from the previous homework assignment."
   ]
  },
  {
   "cell_type": "code",
   "execution_count": null,
   "metadata": {},
   "outputs": [],
   "source": [
    "import numpy as np\n",
    "import matplotlib.pyplot as plt\n",
    "\n",
    "# Variable setup\n",
    "f = 300e6  # Frequency of operation\n",
    "lam = 3e8 / f  # Wavelength\n",
    "k = 2 * np.pi / lam  # Wave number\n",
    "l = lam / 2  # Antenna length\n",
    "a = 0.001  # Wire radius\n",
    "\n",
    "points = 5  # Number of test functions\n",
    "max_eq = 168  # Maximum number of equations\n",
    "N = np.linspace(0, max_eq, points)  # Discrete points\n",
    "\n",
    "dz = (l / 2) / (max_eq + 1)\n",
    "z = (N - 0.5) * dz  # Corrected midpoint calculation\n",
    "\n",
    "# Calculate R and Z\n",
    "Z_pos = np.zeros((points, points), dtype=np.complex128)\n",
    "Z_neg = np.zeros((points, points), dtype=np.complex128)\n",
    "\n",
    "for m in range(points):\n",
    "    for n in range(points):\n",
    "        R = np.sqrt(a**2 + (z[m] - z[n])**2)\n",
    "        Z_pos[m, n] = np.exp(1j * k * R) / (4 * np.pi * R)\n",
    "\n",
    "        R = np.sqrt(a**2 + (z[m] + z[n])**2)\n",
    "        Z_neg[m, n] = np.exp(1j * k * R) / (4 * np.pi * R)\n",
    "\n",
    "# Construct impedance matrix Zmn\n",
    "Zmn = Z_pos + Z_neg\n",
    "\n",
    "# Define constants for solving for x\n",
    "mu = 1\n",
    "epsilon = 8.854e-12\n",
    "omega = 2 * np.pi * f\n",
    "B = 1\n",
    "Vi = -(1j) * np.sqrt(mu * epsilon) * k * 2 * B / (-1j * omega * mu * epsilon)\n",
    "eta = 377  # Intrinsic impedance of free space\n",
    "\n",
    "# Define cos and sin terms\n",
    "cos = (1j / eta) * np.cos(k * z)  # Basis function (column vector)\n",
    "sin = (-1j * Vi / (2 * eta)) * np.sin(k * z)  # Testing function (column vector)\n",
    "\n",
    "# Reshape sin to be a column vector\n",
    "sin = sin.reshape(-1, 1)\n",
    "cos = cos.reshape(-1, 1)\n",
    "\n",
    "# Compute a (proper matrix multiplication)\n",
    "a = Zmn @ cos  # Correct matrix-vector multiplication\n",
    "\n",
    "# Solve for c\n",
    "c = np.linalg.solve(a, sin)\n",
    "\n",
    "# Calculate input impedance Zin\n",
    "Zin = Vi / c[0]  # Zin is computed at the first segment\n",
    "\n",
    "# Plot\n",
    "plt.plot(N, np.abs(c), marker='o', linestyle='-', label=\"Current Distribution\")\n",
    "plt.xlabel('N (Segment Index)')\n",
    "plt.ylabel('Current Magnitude')\n",
    "plt.title('Current Distribution on Half-Wave Dipole')\n",
    "plt.grid()\n",
    "plt.legend()\n",
    "plt.show()\n"
   ]
  },
  {
   "cell_type": "markdown",
   "metadata": {},
   "source": [
    "Compute the input impedance as a function of electrical length using the moment method. Plot both the real and imaginary parts. Add to the plot the radiation resistance from the sinusoidal current model. Set the range of axes sensibly so that important features of the curves are visible."
   ]
  },
  {
   "cell_type": "code",
   "execution_count": null,
   "metadata": {},
   "outputs": [],
   "source": []
  }
 ],
 "metadata": {
  "kernelspec": {
   "display_name": "Python 3",
   "language": "python",
   "name": "python3"
  },
  "language_info": {
   "codemirror_mode": {
    "name": "ipython",
    "version": 3
   },
   "file_extension": ".py",
   "mimetype": "text/x-python",
   "name": "python",
   "nbconvert_exporter": "python",
   "pygments_lexer": "ipython3",
   "version": "3.11.9"
  }
 },
 "nbformat": 4,
 "nbformat_minor": 2
}
