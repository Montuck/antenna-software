{
 "cells": [
  {
   "cell_type": "markdown",
   "metadata": {},
   "source": [
    "(a) Simulate the performance of Alamouti two-antenna transmit diversity. Create a random stream of, say, 1000 QPSK symbols $(±1 ± j)/√2$. Generate a sequence of channel matrices by moving the receiver (or transmitter) through a multipath environment slowly enough that the slow fading assumption holds, but fast enough that the channel is random over the whole simulation. Generate complex Gaussian noise with variance $σ^2_η$ to simulate noise at the receiver. Assuming the receiver knows the channel perfectly, detect the symbols using the Alamouti scheme. Compute the symbol error rate as the ratio of incorrectly decoded symbols to the total number of symbols. Repeat for different values of SNR, and plot the symbol error rate on a log scale as a function of SNR in dB."
   ]
  },
  {
   "cell_type": "code",
   "execution_count": 2,
   "metadata": {},
   "outputs": [
    {
     "ename": "IndexError",
     "evalue": "too many indices for array: array is 0-dimensional, but 1 were indexed",
     "output_type": "error",
     "traceback": [
      "\u001b[1;31m---------------------------------------------------------------------------\u001b[0m",
      "\u001b[1;31mIndexError\u001b[0m                                Traceback (most recent call last)",
      "Cell \u001b[1;32mIn[2], line 83\u001b[0m\n\u001b[0;32m     81\u001b[0m         \u001b[38;5;28;01mif\u001b[39;00m y[i, \u001b[38;5;241m1\u001b[39m] \u001b[38;5;241m!=\u001b[39m qpsk_blocks[i][\u001b[38;5;241m1\u001b[39m]:\n\u001b[0;32m     82\u001b[0m             errors \u001b[38;5;241m+\u001b[39m\u001b[38;5;241m=\u001b[39m \u001b[38;5;241m1\u001b[39m\n\u001b[1;32m---> 83\u001b[0m     \u001b[43mbit_error_rate\u001b[49m\u001b[43m[\u001b[49m\u001b[43mi\u001b[49m\u001b[43m]\u001b[49m \u001b[38;5;241m=\u001b[39m errors \u001b[38;5;241m/\u001b[39m num_symbols\n\u001b[0;32m     85\u001b[0m \u001b[38;5;66;03m# plot the symbol error rate on a log scale as a function of SNR in dB\u001b[39;00m\n\u001b[0;32m     86\u001b[0m plt\u001b[38;5;241m.\u001b[39mplot(SNRt_dB, \u001b[38;5;241m10\u001b[39m\u001b[38;5;241m*\u001b[39mnp\u001b[38;5;241m.\u001b[39mlog10(bit_error_rate), \u001b[38;5;124m'\u001b[39m\u001b[38;5;124mo-\u001b[39m\u001b[38;5;124m'\u001b[39m)\n",
      "\u001b[1;31mIndexError\u001b[0m: too many indices for array: array is 0-dimensional, but 1 were indexed"
     ]
    }
   ],
   "source": [
    "# Scatterer multipath propagation model\n",
    "import numpy as np\n",
    "import matplotlib.pyplot as plt\n",
    "\n",
    "# parameters\n",
    "f = 1e9         # frequency\n",
    "c0 = 3e8        # speed of light\n",
    "lam = c0/f      # wavelength\n",
    "k = 2*np.pi/lam # wavenumber\n",
    "eta = 377       # impedance of free space\n",
    "\n",
    "# Create a random stream of 1000 QPSK symbols (±1 ± j)/√2\n",
    "num_symbols = 1000\n",
    "bits_i = np.random.randint(0, 2, num_symbols)   # in-phase bits\n",
    "bits_q = np.random.randint(0, 2, num_symbols)   # quadrature bits\n",
    "symbols_i = (2*bits_i - 1)/np.sqrt(2)           # in-phase symbols\n",
    "symbols_q = (2*bits_q - 1)/np.sqrt(2)           # quadrature symbols\n",
    "qpsk_symbols = symbols_i + 1j*symbols_q         # complex symbols\n",
    "qpsk_symbols = qpsk_symbols[:2 * (num_symbols // 2)]  # Make it even\n",
    "qpsk_blocks = qpsk_symbols.reshape(-1, 2)  # Shape: [num_blocks, 2]\n",
    "num_blocks = qpsk_blocks.shape[0]\n",
    "\n",
    "# Simulate the performance of Alamouti two-antenna transmit diversity\n",
    "points = num_blocks                 # number of points to simulate\n",
    "Nt = 2                              # transmit antennas\n",
    "Nr = 1                              # receive antennas\n",
    "d = 0.4*lam                         # element spacing\n",
    "x_t = 0                             # transmitter location in x direction\n",
    "y_t = 0                             # transmitter location in y direction\n",
    "x_r = np.linspace(-10, 10, points)  # moving receiver locations in x direction\n",
    "y_r = np.zeros(points)              # static receiver locations in y direction\n",
    "\n",
    "# Generate a sequence of channel matrices by moving the receiver (or transmitter) through a multipath environment\n",
    "# Repeat for different values of SNR\n",
    "x_s = np.random.uniform(-10, 10, points)    # x-coordinates of scatterers\n",
    "y_s = np.random.uniform(-10, 10, points)    # y-coordinates of scatterers\n",
    "ref_coef = -1                               # reflection coefficient\n",
    "SNRt_dB = np.linspace(0, 30, points)        # SNR in dB\n",
    "SNRt = 10**(SNRt_dB/10)                     # SNR in linear scale\n",
    "\n",
    "# calculate an array of channel matrices\n",
    "H = np.zeros([points, Nt, Nr], dtype=complex)   # channel matrices\n",
    "for m in range(0,points):\n",
    "    # calculate the fields\n",
    "    for n in range(0,Nt):\n",
    "        # element positions within the tx array\n",
    "        x_t_e = x_t + n*d\n",
    "        # distance between scatterer and receiver\n",
    "        delta_r = np.sqrt((x_t_e - x_s[m])**2 + (y_t - y_s[m])**2) \\\n",
    "                - np.sqrt((x_s[m] - x_r[m])**2 + (y_s[m] - y_r[m])**2) \n",
    "        # received field\n",
    "        H[m, n, 0] = 1+ref_coef*np.exp(-1j*k*delta_r)\n",
    "\n",
    "# Generate complex Gaussian noise with variance σ^2_η to simulate noise at the receiver\n",
    "mean_noise = 0  # noise mean\n",
    "var_noise = 0.1 # noise variance\n",
    "noise_std = np.sqrt(var_noise / 2)  # noise standard deviation\n",
    "noise = noise_std * (np.random.randn(num_blocks) + 1j * np.random.randn(num_blocks))\n",
    "x = np.zeros([num_blocks, Nt], dtype=complex)                               # received signal\n",
    "for m in range(0,num_blocks):\n",
    "    s0, s1 = qpsk_blocks[m]                                                 # symbols to be transmitted\n",
    "    x[m, 0] = np.dot(H[m, :, 0], [s0, s1]) + noise[m]                       # First time slot\n",
    "    x[m, 1] = np.dot(H[m, :, 0], [-np.conj(s1), np.conj(s0)]) + noise[m]    # Second time slot\n",
    "\n",
    "# detect the symbols using the Alamouti scheme\n",
    "y = np.zeros([num_blocks, Nt], dtype=complex)         # decoded symbols\n",
    "for m in range(0,num_blocks):\n",
    "    A = np.array([[H[m, 0, 0], H[m, 1, 0]],\n",
    "                  [np.conj(H[m, 1, 0]), -1*np.conj(H[m, 0, 0])]])   # Alamouti scheme\n",
    "    x_mult = np.array([x[m, 0], np.conj(x[m, 1])])                  # received signal\n",
    "    y[m,:] = np.dot(np.conj(np.linalg.pinv(A)).T, x_mult.T)        # decode the symbols\n",
    "\n",
    "# Compute the symbol error rate as the ratio of incorrectly decoded symbols to the total number of symbols. \n",
    "bit_error_rate = np.array(num_blocks, dtype=int)  # number of errors\n",
    "for i in range(0, num_blocks):\n",
    "    errors = 0  # number of errors for each symbol\n",
    "    for j in range(0, Nt):\n",
    "        # Compare the detected symbols with the transmitted symbols\n",
    "        if y[i, 0] != qpsk_blocks[i][0]:\n",
    "            errors += 1\n",
    "        if y[i, 1] != qpsk_blocks[i][1]:\n",
    "            errors += 1\n",
    "    bit_error_rate[i] = errors / num_symbols\n",
    "\n",
    "# plot the symbol error rate on a log scale as a function of SNR in dB\n",
    "plt.plot(SNRt_dB, 10*np.log10(bit_error_rate), 'o-')\n",
    "plt.title('Symbol Error Rate vs SNR (dB)')\n",
    "plt.xlabel('SNR (dB)')\n",
    "plt.ylabel('Symbol Error Rate (dB)')\n",
    "plt.grid()\n",
    "plt.xlim([0, 30])\n",
    "plt.ylim([-10, 0])\n"
   ]
  },
  {
   "cell_type": "markdown",
   "metadata": {},
   "source": [
    "(b) Repeat for the case of no transmit diversity. Overlay the results on the same plot. To make this a fair comparison, the transmit symbols\n",
    "should not be divided by √2, so that the same total transmit power as in the Alamouti case is supplied to a single antenna."
   ]
  },
  {
   "cell_type": "code",
   "execution_count": null,
   "metadata": {},
   "outputs": [],
   "source": []
  }
 ],
 "metadata": {
  "kernelspec": {
   "display_name": "Python 3",
   "language": "python",
   "name": "python3"
  },
  "language_info": {
   "codemirror_mode": {
    "name": "ipython",
    "version": 3
   },
   "file_extension": ".py",
   "mimetype": "text/x-python",
   "name": "python",
   "nbconvert_exporter": "python",
   "pygments_lexer": "ipython3",
   "version": "3.11.9"
  }
 },
 "nbformat": 4,
 "nbformat_minor": 2
}
