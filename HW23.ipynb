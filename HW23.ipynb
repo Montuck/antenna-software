{
 "cells": [
  {
   "cell_type": "markdown",
   "metadata": {},
   "source": [
    "(a) Simulate the performance of Alamouti two-antenna transmit diversity. Create a random stream of, say, 1000 QPSK symbols $(±1 ± j)/√2$. Generate a sequence of channel matrices by moving the receiver (or transmitter) through a multipath environment slowly enough that the slow fading assumption holds, but fast enough that the channel is random over the whole simulation. Generate complex Gaussian noise with variance $σ^2_η$ to simulate noise at the receiver. Assuming the receiver knows the channel perfectly, detect the symbols using the Alamouti scheme. Compute the symbol error rate as the ratio of incorrectly decoded symbols to the total number of symbols. Repeat for different values of SNR, and plot the symbol error rate on a log scale as a function of SNR in dB."
   ]
  },
  {
   "cell_type": "code",
   "execution_count": null,
   "metadata": {},
   "outputs": [],
   "source": [
    "# Scatterer multipath propagation model\n",
    "import numpy as np\n",
    "import matplotlib.pyplot as plt\n",
    "\n",
    "# parameters\n",
    "f = 1e9         # frequency\n",
    "c0 = 3e8        # speed of light\n",
    "lam = c0/f      # wavelength\n",
    "k = 2*np.pi/lam # wavenumber\n",
    "eta = 377       # impedance of free space\n",
    "\n",
    "# Simulate the performance of Alamouti two-antenna transmit diversity\n",
    "points = 300                        # number of points to simulate\n",
    "Nt = 2                              # transmit antennas\n",
    "Nr = 1                              # receive antennas\n",
    "d = 0.4*lam                         # element spacing\n",
    "x_t = 0                             # transmitter location in x direction\n",
    "y_t = 0                             # transmitter location in y direction\n",
    "x_r = np.linspace(-10, 10, points)  # moving receiver locations in x direction\n",
    "y_r = np.zeros(points)              # static receiver locations in y direction\n",
    "\n",
    "# Create a random stream of 1000 QPSK symbols (±1 ± j)/√2\n",
    "num_symbols = 1000\n",
    "bits_i = np.random.randint(0, 2, num_symbols)   # in-phase bits\n",
    "bits_q = np.random.randint(0, 2, num_symbols)   # quadrature bits\n",
    "symbols_i = (2*bits_i - 1)/np.sqrt(2)           # in-phase symbols\n",
    "symbols_q = (2*bits_q - 1)/np.sqrt(2)           # quadrature symbols\n",
    "qpsk_symbols = symbols_i + 1j*symbols_q         # complex symbols\n",
    "\n",
    "# Generate a sequence of channel matrices by moving the receiver (or transmitter) through a multipath environment\n",
    "# Repeat for different values of SNR\n",
    "x_s = np.random.uniform(-10, 10, points)    # x-coordinates of scatterers\n",
    "y_s = np.random.uniform(-10, 10, points)    # y-coordinates of scatterers\n",
    "ref_coef = -1                               # reflection coefficient\n",
    "SNRt_dB = np.linspace(0, 30, points)        # SNR in dB\n",
    "SNRt = 10**(SNRt_dB/10)                     # SNR in linear scale\n",
    "\n",
    "# calculate an array of channel matrices\n",
    "H = np.zeros([points, Nt, Nr], dtype=complex)   # channel matrices\n",
    "for m in range(0,points):\n",
    "    # calculate the fields\n",
    "    for n in range(0,Nt):\n",
    "        # element positions within the tx array\n",
    "        x_t_e = x_t + n*d\n",
    "        # distance between scatterer and receiver\n",
    "        delta_r = np.sqrt((x_t_e - x_s[m])**2 + (y_t - y_s[m])**2) \\\n",
    "                - np.sqrt((x_s[m] - x_r[m])**2 + (y_s[m] - y_r[m])**2) \n",
    "        # received field\n",
    "        H[m, n, 0] = 1+ref_coef*np.exp(-1j*k*delta_r)\n",
    "\n",
    "# Generate complex Gaussian noise with variance σ^2_η to simulate noise at the receiver\n",
    "\n",
    "\n",
    "# detect the symbols using the Alamouti scheme\n",
    "\n",
    "# Compute the symbol error rate as the ratio of incorrectly decoded symbols to the total number of symbols. \n",
    "\n",
    "# plot the symbol error rate on a log scale as a function of SNR in dB"
   ]
  },
  {
   "cell_type": "markdown",
   "metadata": {},
   "source": [
    "(b) Repeat for the case of no transmit diversity. Overlay the results on the same plot. To make this a fair comparison, the transmit symbols\n",
    "should not be divided by √2, so that the same total transmit power as in the Alamouti case is supplied to a single antenna."
   ]
  },
  {
   "cell_type": "code",
   "execution_count": null,
   "metadata": {},
   "outputs": [],
   "source": []
  }
 ],
 "metadata": {
  "kernelspec": {
   "display_name": "Python 3",
   "language": "python",
   "name": "python3"
  },
  "language_info": {
   "codemirror_mode": {
    "name": "ipython",
    "version": 3
   },
   "file_extension": ".py",
   "mimetype": "text/x-python",
   "name": "python",
   "nbconvert_exporter": "python",
   "pygments_lexer": "ipython3",
   "version": "3.12.10"
  }
 },
 "nbformat": 4,
 "nbformat_minor": 2
}
