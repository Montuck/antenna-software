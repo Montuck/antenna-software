{
 "cells": [
  {
   "cell_type": "markdown",
   "metadata": {},
   "source": [
    "1. For the model in the previous problem, use the correlation matrix formulation to find the equivalent external noise temperature, receiver noise temperature, system noise temperature, and the noise matching efficiency."
   ]
  },
  {
   "cell_type": "code",
   "execution_count": null,
   "metadata": {
    "vscode": {
     "languageId": "plaintext"
    }
   },
   "outputs": [],
   "source": []
  },
  {
   "cell_type": "markdown",
   "metadata": {},
   "source": [
    " 2. Change your model to scan the array element spacing from 0 to 2λ. Use equal weights at\n",
    " the open circuit reference plane. Plot (a) the directivity, (b) the array gain with external noise\n",
    " only and an isotropic radiator as reference in the broadside direction, and (c) the array gain\n",
    " with the full noise model and element 1 as reference."
   ]
  },
  {
   "cell_type": "code",
   "execution_count": null,
   "metadata": {
    "vscode": {
     "languageId": "plaintext"
    }
   },
   "outputs": [],
   "source": []
  },
  {
   "cell_type": "markdown",
   "metadata": {},
   "source": [
    " 3. Redo the previous problem with the beamformer weights that maximize each quantity and\n",
    " plot the same curves. For small element spacings, the maximum directivity is a lot higher\n",
    " than the directivity with equal weights. But the maximum array gain with full noise model\n",
    " and element 1 as reference isn’t much larger than the array gain with equal weights. What’s\n",
    " going on?"
   ]
  },
  {
   "cell_type": "code",
   "execution_count": null,
   "metadata": {
    "vscode": {
     "languageId": "plaintext"
    }
   },
   "outputs": [],
   "source": []
  }
 ],
 "metadata": {
  "language_info": {
   "name": "python"
  }
 },
 "nbformat": 4,
 "nbformat_minor": 2
}
