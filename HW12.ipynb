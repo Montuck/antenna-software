{
 "cells": [
  {
   "cell_type": "markdown",
   "metadata": {},
   "source": [
    "Develop a mutual coupling model for isotropic radiators\n",
    "\n",
    "(a) Write a code to find the element pattern overlap matrix for an array of isotropic radiators using the analytical result in the text.\n",
    "\n",
    "To calculate the overlap matrix $A$ we use the sinc function and the distances between each of the elements within the array.\n",
    "\n",
    "Distance between elements\n",
    "$$ r = nd $$\n",
    "$$ r_{mn} = r_m-r_n $$\n",
    "\n",
    "The overlap matrix is given as:\n",
    "$$ A=P_{rad}\\frac{\\sin(kr_{mn})}{kr_{mn}} $$"
   ]
  },
  {
   "cell_type": "code",
   "execution_count": 31,
   "metadata": {},
   "outputs": [
    {
     "name": "stdout",
     "output_type": "stream",
     "text": [
      "Overlap Matrix\n",
      " [[ 1.         -0.04359863  0.03935584 -0.03283505]\n",
      " [-0.04359863  1.         -0.04359863  0.03935584]\n",
      " [ 0.03935584 -0.04359863  1.         -0.04359863]\n",
      " [-0.03283505  0.03935584 -0.04359863  1.        ]]\n"
     ]
    }
   ],
   "source": [
    "import numpy as np\n",
    "import matplotlib.pyplot as plt\n",
    "\n",
    "# Define antenna the parameters\n",
    "f=1e9           # frequency in Hz\n",
    "c=3e8           # speed of light in m/s\n",
    "lam=c/f         # wavelength in m\n",
    "k = 2*np.pi/lam # wave number\n",
    "\n",
    "# Define the array\n",
    "d=lam/2                 # distance between elements\n",
    "rx = [0, d, 2*d, 3*d]   # rx is a 1D array with N elements\n",
    "N = 4                   # Number of nodes\n",
    "A = np.zeros([N, N])    # A is a 2D array with Nel rows and N columns\n",
    "\n",
    "# sinc calculation\n",
    "for m in range(0, N):\n",
    "    for n in range(0, N):\n",
    "        r = abs(rx[m] - rx[n])\n",
    "        A[m, n] = np.sinc(k*r)\n",
    "\n",
    "# print the overlap matrix\n",
    "print(\"Overlap Matrix\\n\", A)"
   ]
  },
  {
   "cell_type": "markdown",
   "metadata": {},
   "source": [
    "(b) Use the relationship between the overlap matrix and the mutual impedance matrix to estimate the array mutual impedance matrix. Scale the impedance matrix so that the diagonal elements are equal to 50Ω.\n",
    "\n",
    "The relationship between the array factor and the mutual impedance is:\n",
    "\n",
    "$$ R_{rad}=\\frac{2}{|I_0|^2}A $$"
   ]
  },
  {
   "cell_type": "code",
   "execution_count": 32,
   "metadata": {},
   "outputs": [
    {
     "name": "stdout",
     "output_type": "stream",
     "text": [
      "Impedance Matrix\n",
      " [[50.         -2.17993143  1.96779219 -1.64175247]\n",
      " [-2.17993143 50.         -2.17993143  1.96779219]\n",
      " [ 1.96779219 -2.17993143 50.         -2.17993143]\n",
      " [-1.64175247  1.96779219 -2.17993143 50.        ]]\n"
     ]
    }
   ],
   "source": [
    "# Relationship between the array factor and the mutual impedance\n",
    "Io = 1                  # Current\n",
    "Za = 2*A/(abs(Io)**2)   # Impedance\n",
    "Za = 25*Za              # Scaling\n",
    "\n",
    "# print\n",
    "print(\"Impedance Matrix\\n\", Za)"
   ]
  },
  {
   "cell_type": "markdown",
   "metadata": {},
   "source": [
    "(c) Give the impedance matrix for a four element ULA of isotropic radiators with 0.3λ spacing."
   ]
  },
  {
   "cell_type": "code",
   "execution_count": 33,
   "metadata": {},
   "outputs": [
    {
     "name": "stdout",
     "output_type": "stream",
     "text": [
      "Overlap Matrix\n",
      " [[ 1.         -0.05971285 -0.05585509 -0.04975779]\n",
      " [-0.05971285  1.         -0.05971285 -0.05585509]\n",
      " [-0.05585509 -0.05971285  1.         -0.05971285]\n",
      " [-0.04975779 -0.05585509 -0.05971285  1.        ]]\n",
      "\n",
      "Impedance Matrix\n",
      " [[50.         -2.98564268 -2.79275436 -2.48788931]\n",
      " [-2.98564268 50.         -2.98564268 -2.79275436]\n",
      " [-2.79275436 -2.98564268 50.         -2.98564268]\n",
      " [-2.48788931 -2.79275436 -2.98564268 50.        ]]\n"
     ]
    }
   ],
   "source": [
    "# Define the array\n",
    "d=0.3*lam               # distance between elements\n",
    "rx = [0, d, 2*d, 3*d]   # rx is a 1D array with N elements\n",
    "N = 4                   # Number of nodes\n",
    "A = np.zeros([N, N])    # A is a 2D array with Nel rows and N columns\n",
    "\n",
    "# sinc calculation\n",
    "for m in range(0, N):\n",
    "    for n in range(0, N):\n",
    "        r = abs(rx[m] - rx[n])\n",
    "        A[m, n] = np.sinc(k*r)\n",
    "\n",
    "# print the overlap matrix\n",
    "print(\"Overlap Matrix\\n\", A)\n",
    "\n",
    "# Relationship between the array factor and the mutual impedance\n",
    "Io = 1                  # Current\n",
    "Za = 2*A/(abs(Io)**2)   # Impedance\n",
    "Za = 25*Za              # Scaling\n",
    "\n",
    "# print\n",
    "print(\"\\nImpedance Matrix\\n\", Za)"
   ]
  }
 ],
 "metadata": {
  "kernelspec": {
   "display_name": "Python 3",
   "language": "python",
   "name": "python3"
  },
  "language_info": {
   "codemirror_mode": {
    "name": "ipython",
    "version": 3
   },
   "file_extension": ".py",
   "mimetype": "text/x-python",
   "name": "python",
   "nbconvert_exporter": "python",
   "pygments_lexer": "ipython3",
   "version": "3.12.9"
  }
 },
 "nbformat": 4,
 "nbformat_minor": 2
}
