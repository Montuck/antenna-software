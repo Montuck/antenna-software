{
 "cells": [
  {
   "cell_type": "markdown",
   "metadata": {},
   "source": [
    "Develop a mutual coupling model for isotropic radiators\n",
    " (a) Write a code to find the element pattern overlap matrix for an array of isotropic radiators using the analytical result in the text."
   ]
  },
  {
   "cell_type": "code",
   "execution_count": 8,
   "metadata": {},
   "outputs": [
    {
     "name": "stdout",
     "output_type": "stream",
     "text": [
      "[[0. 1. 2. 3. 0.]\n",
      " [1. 0. 1. 2. 0.]\n",
      " [2. 1. 0. 1. 0.]\n",
      " [0. 0. 0. 0. 0.]]\n"
     ]
    }
   ],
   "source": [
    "import numpy as np\n",
    "import matplotlib.pyplot as plt\n",
    "\n",
    "N = 4                           # Number of nodes\n",
    "Nel = N+1                       # Number of elements\n",
    "rx = np.arange(1, Nel, 1)         # rx is a 1D array with N-1 elements\n",
    "A = np.zeros([N, Nel])          # A is a 2D array with Nel rows and N columns\n",
    "\n",
    "for m in range(0, N-1):\n",
    "    for n in range(0, Nel-1):\n",
    "        A[m, n] = abs(rx[m] - rx[n])\n",
    "\n",
    "print(A)"
   ]
  },
  {
   "cell_type": "markdown",
   "metadata": {},
   "source": [
    " (b) Use the relationship between the overlap matrix and the mutual impedance matrix to estimate the array mutual impedance matrix. Scale the impedance matrix so that the diagonal elements are equal to 50Ω."
   ]
  }
 ],
 "metadata": {
  "kernelspec": {
   "display_name": "Python 3",
   "language": "python",
   "name": "python3"
  },
  "language_info": {
   "codemirror_mode": {
    "name": "ipython",
    "version": 3
   },
   "file_extension": ".py",
   "mimetype": "text/x-python",
   "name": "python",
   "nbconvert_exporter": "python",
   "pygments_lexer": "ipython3",
   "version": "3.11.9"
  }
 },
 "nbformat": 4,
 "nbformat_minor": 2
}
