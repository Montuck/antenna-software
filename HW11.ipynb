{
 "cells": [
  {
   "cell_type": "markdown",
   "metadata": {},
   "source": [
    "4.7\n",
    "\n",
    "Design a six element, broadside Dolph-Chebyshev array for a sidelobe level of -20dB\n",
    "\n",
    "(a) give the relative excitation currents for the array elements\n",
    "\n",
    "(b) for elements spaced a half wavelength apart, what is the null-to-null width of the main beam"
   ]
  },
  {
   "cell_type": "code",
   "execution_count": null,
   "metadata": {},
   "outputs": [],
   "source": [
    "import numpy as np\n",
    "import matplotlib.pyplot as plt\n",
    "\n",
    "def array_factor(b, theta, N, f, alpha):\n",
    "    # signal parameters\n",
    "    lam = 3e8/f\n",
    "    k = 2*np.pi/lam\n",
    "\n",
    "    # array parameters\n",
    "    d = lam/2\n",
    "    n = np.arange(1, N+1)\n",
    "\n",
    "    # calculate array factor\n",
    "    u = k*d*np.cos(theta)-alpha\n",
    "    x = b*np.cos(u/2)\n",
    "    T = np.cos(n*np.arccos(x))\n",
    "\n",
    "    # plot array factor\n",
    "    plt.plot(theta, np.abs(np.sum(T, axis=1)))\n",
    "    plt.xlabel(r'$\\theta$')\n",
    "    plt.ylabel(r'$AF(\\theta)$')\n",
    "    plt.title('Array Factor')\n",
    "    plt.grid()\n",
    "    plt.show()\n",
    "\n",
    "theta = np.linspace(-np.pi/2, np.pi/2, 1000)\n",
    "array_factor(1, theta, 10, 3e9, 0)"
   ]
  }
 ],
 "metadata": {
  "language_info": {
   "name": "python"
  }
 },
 "nbformat": 4,
 "nbformat_minor": 2
}
