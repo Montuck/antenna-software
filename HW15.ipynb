{
 "cells": [
  {
   "cell_type": "markdown",
   "metadata": {},
   "source": [
    "1) 5.5. The array in 5.4 receives a signal at broadside with a field strength of $10{^-5}$ V/m. Add to the model code to find the open circuit signal and noise voltage correlation matrices. Find the SNR  with equal open circuit referenced beamformer weights. From the SNR, find the sensitivity of the receiver."
   ]
  },
  {
   "cell_type": "code",
   "execution_count": null,
   "metadata": {
    "vscode": {
     "languageId": "plaintext"
    }
   },
   "outputs": [],
   "source": []
  },
  {
   "cell_type": "markdown",
   "metadata": {},
   "source": [
    "2) For your dipole array receiver code, add a receiver noise model. The front end low noise\n",
    "amplifiers have noise figure 2 dB, noise resistance RN = 15 Ω, and correlation admittance\n",
    "Yc = 0. Assume that noise added by components after the LNAs is negligible. Compute the\n",
    "open circuit loaded receiver noise correlation matrix. Combine the receiver noise and external\n",
    "noise correlation matrix to find the total noise correlation matrix. For the array and incident\n",
    "field of the previous assignment, find the SNR with receiver noise included. Compute the\n",
    "receiver sensitivity G/T from the SNR. How much does the SNR decrease compared to the\n",
    "result from the earlier assignment without receiver noise? Compare the SNR decrease to the\n",
    "LNA noise figure."
   ]
  },
  {
   "cell_type": "code",
   "execution_count": null,
   "metadata": {
    "vscode": {
     "languageId": "plaintext"
    }
   },
   "outputs": [],
   "source": []
  }
 ],
 "metadata": {
  "language_info": {
   "name": "python"
  }
 },
 "nbformat": 4,
 "nbformat_minor": 2
}
