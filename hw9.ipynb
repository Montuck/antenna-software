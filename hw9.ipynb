{
 "cells": [
  {
   "cell_type": "markdown",
   "metadata": {},
   "source": [
    "3.13 \n",
    "\n",
    "(a)"
   ]
  },
  {
   "cell_type": "code",
   "execution_count": null,
   "metadata": {},
   "outputs": [],
   "source": []
  },
  {
   "cell_type": "markdown",
   "metadata": {},
   "source": [
    "(b)"
   ]
  },
  {
   "cell_type": "code",
   "execution_count": null,
   "metadata": {},
   "outputs": [],
   "source": []
  },
  {
   "cell_type": "markdown",
   "metadata": {},
   "source": [
    "(c)"
   ]
  },
  {
   "cell_type": "code",
   "execution_count": null,
   "metadata": {},
   "outputs": [],
   "source": [
    "import numpy as np\n",
    "import matplotlib.pyplot as plt\n",
    "\n",
    "theta = np.linspace(-1*np.pi, np.pi, 150)\n",
    "E = np.sinc(theta/np.pi)**2\n",
    "plt.polar(theta, E)\n",
    "plt.title('Radiation Pattern of a Uniform Aperture')\n",
    "plt.show()"
   ]
  },
  {
   "cell_type": "markdown",
   "metadata": {},
   "source": [
    "3.14\n",
    "(a) What is the radiation pattern for a dominant mode horn antenna\n",
    "\n",
    "$$ \\phi=0, 180 $$         \n",
    "$$ E_\\phi~cos\\theta \\frac{cos(k_x a/2)}{\\pi^2 - (k_x a)^2} $$\n",
    "$$ \\phi=90, 270 $$        \n",
    "$$ E_\\phi~\\frac{sin(k_y b/2)}{k_y b/2} $$"
   ]
  },
  {
   "cell_type": "code",
   "execution_count": null,
   "metadata": {},
   "outputs": [],
   "source": [
    "lam = 3e8/2.4e9\n",
    "k = 2*np.pi / lam\n",
    "phi = [0, 90]\n",
    "kx = k*np.sin(theta)*np.cos(phi[0])\n",
    "ky = k*np.sin(theta)*np.sin(phi[1])\n",
    "a = 3*lam\n",
    "b = 2*lam\n",
    "theta = np.linspace(-1*np.pi, np.pi, 150)\n",
    "E_phi_1 = np.cos(theta)*np.cos(kx*a/2) / (np.pi**2 - (kx*a)**2)\n",
    "E_phi_2 = np.sin(ky*a/2) / (ky*a/2)\n",
    "\n",
    "plt.polar(theta,E_phi_1,label='phi=0, 180')\n",
    "plt.polar(theta,E_phi_2,label='phi=90, 270')\n",
    "plt.legend()\n",
    "plt.title('Radiation Pattern of a Horn Antenna')\n",
    "plt.show()"
   ]
  },
  {
   "cell_type": "markdown",
   "metadata": {},
   "source": [
    "(b) Plot the directivity as a function of frequency. In the same plot show the gain foor 100% efficiency $(4\\pi ab/\\lambda^2)$.\n",
    "\n",
    "Directivity is given as:\n",
    "\n",
    "$$ D = \\frac{8}{\\pi^2}\\frac{4*\\pi}{\\lambda^2}ab $$\n",
    "\n",
    "And gain is:\n",
    "\n",
    "$$ G=\\eta D $$"
   ]
  },
  {
   "cell_type": "code",
   "execution_count": null,
   "metadata": {},
   "outputs": [],
   "source": [
    "f = np.linspace(1e9, 10e9, 1000)\n",
    "lam = 3e8/f\n",
    "D = a*b*8*4*np.pi / (lam**2*np.pi**2)\n",
    "G = 4*np.pi*a*b / (lam**2)\n",
    "plt.plot(f/1e9, D, label='Directivity (D)')\n",
    "plt.plot(f/1e9, G, label='Gain (G)')\n",
    "plt.legend()\n",
    "plt.xlabel('Frequency (GHz)')\n",
    "plt.ylabel('Directivity (D) and Gain (G)')\n",
    "plt.grid()\n",
    "plt.show()\n"
   ]
  }
 ],
 "metadata": {
  "kernelspec": {
   "display_name": "Python 3",
   "language": "python",
   "name": "python3"
  },
  "language_info": {
   "codemirror_mode": {
    "name": "ipython",
    "version": 3
   },
   "file_extension": ".py",
   "mimetype": "text/x-python",
   "name": "python",
   "nbconvert_exporter": "python",
   "pygments_lexer": "ipython3",
   "version": "3.11.9"
  }
 },
 "nbformat": 4,
 "nbformat_minor": 2
}
