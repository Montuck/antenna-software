{
 "cells": [
  {
   "cell_type": "markdown",
   "metadata": {},
   "source": [
    "Estimate the (a) coherence time and (b) coherence bandwidth for a cellular phone in a car driving through an urban environment.\n",
    "\n",
    "The coherence time is given as \n",
    "\n",
    "$$ t_{coh}=\\frac{0.24}{f_{max}} $$\n",
    "\n",
    "where \n",
    "\n",
    "$$ f_{max}=\\frac{kv}{2\\pi}=\\frac{v}{\\lambda} $$\n",
    "\n",
    "and $v$ is the velocity in an urban environmet, we will say downtown Provo, so about 40mph. Assuming a normal cellular frequency (somewhere above 600 MHz) we'll choose 854MHz since that's the frequency range that caused PICs to be difficult to pick up."
   ]
  },
  {
   "cell_type": "code",
   "execution_count": 20,
   "metadata": {},
   "outputs": [
    {
     "name": "stdout",
     "output_type": "stream",
     "text": [
      "Coherence Time =  0.0021301775147928993 s\n"
     ]
    }
   ],
   "source": [
    "# part a\n",
    "v = 40 #mph\n",
    "v_ms = v * 0.44704 #m/s\n",
    "f = 845e6 #Hz\n",
    "lam = 3e8 / f #m\n",
    "f_max = v / lam #Hz\n",
    "t_coh = 0.24/f_max #s\n",
    "print(\"Coherence Time = \",t_coh, \"s\")"
   ]
  },
  {
   "cell_type": "markdown",
   "metadata": {},
   "source": [
    "The coherence bandwidth is given by $$BW_{coh}=\\frac{1}{t_{coh}}$$"
   ]
  },
  {
   "cell_type": "code",
   "execution_count": 21,
   "metadata": {},
   "outputs": [
    {
     "name": "stdout",
     "output_type": "stream",
     "text": [
      "Bandwidth =  469.44444444444446 Hz\n"
     ]
    }
   ],
   "source": [
    "# part b\n",
    "BW = 1/t_coh #Hz\n",
    "print(\"Bandwidth = \",BW, \"Hz\")"
   ]
  },
  {
   "cell_type": "markdown",
   "metadata": {},
   "source": [
    "For a 1 Ω resistor at temperature T = 290 K connected through an ideal bandpass filter with bandwidth 1 MHz and center frequency 1 GHz to a 1 Ω load, find the \n",
    "(a) RMS value of the noise voltage signal at the load, \n",
    "\n",
    "Using the noise power the average voltage is calculated as $$ V = \\frac{\\sqrt{P_n R_{load}}}{2} $$\n",
    "\n",
    "(b) variance of the signal,\n",
    "\n",
    "The variance can be found as the long term signal power as given in equation 9.17\n",
    "\n",
    "$$ \\Gamma=\\frac{long term average signal power}{average noise power} = \\frac{\\sigma^2}{P_n} $$\n",
    "\n",
    "(c) power spectral density of the signal at the load, \n",
    "(d) autocorrelation function, \n",
    "(e) time average power dissipated in the load, and \n",
    "(f) voltage probability distribution function."
   ]
  },
  {
   "cell_type": "code",
   "execution_count": null,
   "metadata": {},
   "outputs": [
    {
     "name": "stdout",
     "output_type": "stream",
     "text": [
      "V_RMS =  3.1630681307869426e-08 V\n"
     ]
    }
   ],
   "source": [
    "import numpy as np\n",
    "\n",
    "# variables\n",
    "r_source = 1 # ohm\n",
    "temp = 290 #K\n",
    "BW = 1e6 #Hz\n",
    "fc = 1e9 #Hz\n",
    "r_load = 1 # ohm\n",
    "\n",
    "# part a\n",
    "Pn = 1.38e-23 * temp * BW #W\n",
    "V_RMS_N = np.sqrt(Pn * r_load)/2 #V\n",
    "print(\"V_RMS_N = \", V_RMS_N, \"V\")\n",
    "\n",
    "# part b\n"
   ]
  }
 ],
 "metadata": {
  "kernelspec": {
   "display_name": "Python 3",
   "language": "python",
   "name": "python3"
  },
  "language_info": {
   "codemirror_mode": {
    "name": "ipython",
    "version": 3
   },
   "file_extension": ".py",
   "mimetype": "text/x-python",
   "name": "python",
   "nbconvert_exporter": "python",
   "pygments_lexer": "ipython3",
   "version": "3.12.9"
  }
 },
 "nbformat": 4,
 "nbformat_minor": 2
}
