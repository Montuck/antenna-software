{
 "cells": [
  {
   "cell_type": "markdown",
   "metadata": {},
   "source": [
    "Estimate the (a) coherence time and (b) coherence bandwidth for a cellular phone in a car driving through an urban environment.\n",
    "\n",
    "The coherence time is given as $$t_{coh}=\\frac{0.24/f_{max}}\n",
    "\n",
    "where $$ f_{max}=\\frac{kv}{2\\pi}=\\frac{v/\\lambda} $$\n",
    "\n",
    "and $v$ is the velocity in an urban environmet, we will say downtown Provo, so about 40mph. Assuming a normal cellular frequency (somewhere above 600 MHz) we'll choose 854MHz since that's the frequency range that caused PICs to be difficult to pick up."
   ]
  },
  {
   "cell_type": "code",
   "execution_count": 2,
   "metadata": {},
   "outputs": [
    {
     "name": "stdout",
     "output_type": "stream",
     "text": [
      "Coherence Time =  0.0021301775147928993 s\n"
     ]
    }
   ],
   "source": [
    "# part a\n",
    "v = 40 #mph\n",
    "v_ms = v * 0.44704 #m/s\n",
    "f = 845e6 #Hz\n",
    "lam = 3e8 / f #m\n",
    "f_max = v / lam #Hz\n",
    "t_coh = 0.24/f_max #s\n",
    "print(\"Coherence Time = \",t_coh, \"s\")"
   ]
  },
  {
   "cell_type": "markdown",
   "metadata": {},
   "source": [
    "The coherence bandwidth is given by $$BW_{coh}=\\frac{1}{t_{coh}}$$"
   ]
  },
  {
   "cell_type": "code",
   "execution_count": 3,
   "metadata": {},
   "outputs": [
    {
     "name": "stdout",
     "output_type": "stream",
     "text": [
      "Bandwidth =  469.44444444444446 Hz\n"
     ]
    }
   ],
   "source": [
    "# part b\n",
    "BW = 1/t_coh #Hz\n",
    "print(\"Bandwidth = \",BW, \"Hz\")"
   ]
  },
  {
   "cell_type": "markdown",
   "metadata": {},
   "source": [
    "For a 1 Ω resistor at temperature T = 290 K connected through an ideal bandpass filter with bandwidth 1 MHz and center frequency 1 GHz to a 1 Ω load, find the \n",
    "(a) RMS value of the noise voltage signal at the load, \n",
    "(b) variance of the signal, \n",
    "(c) power spectral density of the signal at the load, \n",
    "(d) autocorrelation function, \n",
    "(e) time average power dissipated in the load, and \n",
    "(f) voltage probability distribution function."
   ]
  },
  {
   "cell_type": "code",
   "execution_count": null,
   "metadata": {},
   "outputs": [],
   "source": [
    "# variables\n",
    "r_source = 1 # ohm\n",
    "temp = 290 #K\n",
    "BW = 1e6 #Hz\n",
    "fc = 1e9 #Hz\n",
    "r_load = 1 # ohm\n",
    "\n",
    "# part a"
   ]
  }
 ],
 "metadata": {
  "kernelspec": {
   "display_name": "Python 3",
   "language": "python",
   "name": "python3"
  },
  "language_info": {
   "codemirror_mode": {
    "name": "ipython",
    "version": 3
   },
   "file_extension": ".py",
   "mimetype": "text/x-python",
   "name": "python",
   "nbconvert_exporter": "python",
   "pygments_lexer": "ipython3",
   "version": "3.12.9"
  }
 },
 "nbformat": 4,
 "nbformat_minor": 2
}
