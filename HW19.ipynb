{
 "cells": [
  {
   "cell_type": "markdown",
   "metadata": {},
   "source": [
    "Estimate the (a) coherence time and (b) coherence bandwidth for a cellular phone in a car driving through an urban environment.\n",
    "\n",
    "The coherence time is given as \n",
    "\n",
    "$$ t_{coh}=\\frac{0.24}{f_{max}} $$\n",
    "\n",
    "where \n",
    "\n",
    "$$ f_{max}=\\frac{kv}{2\\pi}=\\frac{v}{\\lambda} $$\n",
    "\n",
    "and $v$ is the velocity in an urban environmet, we will say downtown Provo, so about 40mph. Assuming a normal cellular frequency (somewhere above 600 MHz) we'll choose 854MHz since that's the frequency range that caused PICs to be difficult to pick up."
   ]
  },
  {
   "cell_type": "code",
   "execution_count": 26,
   "metadata": {},
   "outputs": [
    {
     "name": "stdout",
     "output_type": "stream",
     "text": [
      "Coherence Time =  0.0021301775147928993 s\n"
     ]
    }
   ],
   "source": [
    "# part a\n",
    "v = 40 #mph\n",
    "v_ms = v * 0.44704 #m/s\n",
    "f = 845e6 #Hz\n",
    "lam = 3e8 / f #m\n",
    "f_max = v / lam #Hz\n",
    "t_coh = 0.24/f_max #s\n",
    "print(\"Coherence Time = \",t_coh, \"s\")"
   ]
  },
  {
   "cell_type": "markdown",
   "metadata": {},
   "source": [
    "The coherence bandwidth is given by $$BW_{coh}=\\frac{1}{t_{coh}}$$"
   ]
  },
  {
   "cell_type": "code",
   "execution_count": 27,
   "metadata": {},
   "outputs": [
    {
     "name": "stdout",
     "output_type": "stream",
     "text": [
      "Bandwidth =  469.44444444444446 Hz\n"
     ]
    }
   ],
   "source": [
    "# part b\n",
    "BW = 1/t_coh #Hz\n",
    "print(\"Bandwidth = \",BW, \"Hz\")"
   ]
  },
  {
   "cell_type": "markdown",
   "metadata": {},
   "source": [
    "For a 1 Ω resistor at temperature T = 290 K connected through an ideal bandpass filter with bandwidth 1 MHz and center frequency 1 GHz to a 1 Ω load, find the \n",
    "(a) RMS value of the noise voltage signal at the load, \n",
    "\n",
    "Using the noise power the average voltage is calculated as $$ V = \\frac{\\sqrt{P_n R_{load}}}{2} $$\n",
    "\n",
    "(b) variance of the signal,\n",
    "\n",
    "The variance can be found as part of the noise signal which is $$ \\sigma_v^2 = N_0 B$$ where $B$ is the bandwidth and $N_0=k_B T$\n",
    "\n",
    "(c) power spectral density of the signal at the load, \n",
    "\n",
    "The power spectral density is given as $$S_w(f)=\\frac{N_0}{2}$$\n",
    "\n",
    "(d) autocorrelation function, \n",
    "\n",
    "The autocorrelation for bandlimited noise is $$ R_w(\\tau) = N_0 B \\text{sinc}(B\\tau)$$ where $\\tau=t-s$ is a time delay or time shift\n",
    "\n",
    "(e) time average power dissipated in the load, \n",
    "\n",
    "\n",
    " \n",
    "(f) voltage probability distribution function."
   ]
  },
  {
   "cell_type": "code",
   "execution_count": null,
   "metadata": {},
   "outputs": [
    {
     "name": "stdout",
     "output_type": "stream",
     "text": [
      "V_RMS_N =  3.1630681307869426e-08 V\n",
      "Variance =  4.002000000000001e-15 W\n",
      "Spectral Density =  2.0010000000000003e-21 W/Hz\n",
      "Autocorrelation =  -4.326166765697678e-31 W\n"
     ]
    }
   ],
   "source": [
    "import numpy as np\n",
    "\n",
    "# variables\n",
    "r_source = 1 # ohm\n",
    "temp = 290 #K\n",
    "BW = 1e6 #Hz\n",
    "fc = 1e9 #Hz\n",
    "r_load = 1 # ohm\n",
    "k_b = 1.38e-23 #J/K\n",
    "\n",
    "# part a\n",
    "Pn = k_b * temp * BW #W\n",
    "V_RMS_N = np.sqrt(Pn * r_load)/2 #V\n",
    "print(\"V_RMS_N = \", V_RMS_N, \"V\")\n",
    "\n",
    "# part b\n",
    "N_0 = k_b * temp #W/Hz\n",
    "var = N_0 * BW #W\n",
    "print(\"Variance = \", var, \"W\")\n",
    "\n",
    "# part c\n",
    "S = N_0 / 2 #W/Hz\n",
    "print(\"Spectral Density = \", S, \"W/Hz\")\n",
    "\n",
    "# part d\n",
    "tau = 0.1 #s\n",
    "R = N_0 * BW * np.sinc(BW*tau) #W\n",
    "print(\"Autocorrelation = \", R, \"W\")\n",
    "\n",
    "# part e\n",
    "\n",
    "\n",
    "# part f\n"
   ]
  }
 ],
 "metadata": {
  "kernelspec": {
   "display_name": "Python 3",
   "language": "python",
   "name": "python3"
  },
  "language_info": {
   "codemirror_mode": {
    "name": "ipython",
    "version": 3
   },
   "file_extension": ".py",
   "mimetype": "text/x-python",
   "name": "python",
   "nbconvert_exporter": "python",
   "pygments_lexer": "ipython3",
   "version": "3.11.9"
  }
 },
 "nbformat": 4,
 "nbformat_minor": 2
}
