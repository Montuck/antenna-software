{
 "cells": [
  {
   "cell_type": "markdown",
   "metadata": {},
   "source": [
    "1. Estimate the channel capacity of plain old (wired) telephone service.\n",
    "\n",
    "The Shannon capacity is $$ C = B\\log_2(1+SNR) $$\n",
    "\n",
    "The frequency spectrum of the human voice is from 300 to 3400 Hz and the typical SNR is 45dB according to https://www.jkaudio.com/article_03.htm "
   ]
  },
  {
   "cell_type": "code",
   "execution_count": 3,
   "metadata": {},
   "outputs": [
    {
     "name": "stdout",
     "output_type": "stream",
     "text": [
      "The Shannon capacity is:  46341.03834971382 bits/s\n"
     ]
    }
   ],
   "source": [
    "import numpy as np\n",
    "\n",
    "B = 3.1e3                       # Bandwidth in Hz   \n",
    "SNR_dB = 45                     # signal to noise ratio in dB\n",
    "SNR_linear = 10**(SNR_dB/10)    # linear conversion of SNR\n",
    "C = B * np.log2(1 + SNR_linear) # Shannon capacity\n",
    "print(\"The Shannon capacity is: \", C, \"bits/s\")"
   ]
  },
  {
   "cell_type": "markdown",
   "metadata": {},
   "source": [
    "Using the point scatterer multipath propagation model from an earlier homework assignment,\n",
    "(a) plot the SNR as a function of time for a moving receiver using spatial diversity with a simple selection algorithm, for isotropic radiator arrays of M = 1, 2, and 3 elements. \n",
    "\n",
    "\n",
    "\n",
    "(b) Plot the SNR CDFs with the analytical CDFs superimposed. \n",
    "\n",
    "(c) Plot the average SNR versus number of elements with the analytical result superimposed. \n",
    "\n",
    "(d) What happens if the array elements are very close together?"
   ]
  }
 ],
 "metadata": {
  "kernelspec": {
   "display_name": "Python 3",
   "language": "python",
   "name": "python3"
  },
  "language_info": {
   "codemirror_mode": {
    "name": "ipython",
    "version": 3
   },
   "file_extension": ".py",
   "mimetype": "text/x-python",
   "name": "python",
   "nbconvert_exporter": "python",
   "pygments_lexer": "ipython3",
   "version": "3.12.9"
  }
 },
 "nbformat": 4,
 "nbformat_minor": 2
}
