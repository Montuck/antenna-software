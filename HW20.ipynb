{
 "cells": [
  {
   "cell_type": "markdown",
   "metadata": {},
   "source": [
    "1. Estimate the channel capacity of plain old (wired) telephone service.\n",
    "\n",
    "The Shannon capacity is $$ C = B\\log_2(1+SNR) $$\n",
    "\n",
    "The frequency spectrum of the human voice is from 300 to 3400 Hz and the typical SNR is 45dB according to https://www.jkaudio.com/article_03.htm "
   ]
  },
  {
   "cell_type": "code",
   "execution_count": 3,
   "metadata": {},
   "outputs": [
    {
     "name": "stdout",
     "output_type": "stream",
     "text": [
      "The Shannon capacity is:  46341.03834971382 bits/s\n"
     ]
    }
   ],
   "source": [
    "import numpy as np\n",
    "\n",
    "B = 3.1e3                       # Bandwidth in Hz   \n",
    "SNR_dB = 45                     # signal to noise ratio in dB\n",
    "SNR_linear = 10**(SNR_dB/10)    # linear conversion of SNR\n",
    "C = B * np.log2(1 + SNR_linear) # Shannon capacity\n",
    "print(\"The Shannon capacity is: \", C, \"bits/s\")"
   ]
  },
  {
   "cell_type": "markdown",
   "metadata": {},
   "source": [
    "Using the point scatterer multipath propagation model from an earlier homework assignment,\n",
    "\n",
    "(a) plot the SNR as a function of time for a moving receiver using spatial diversity with a simple selection algorithm, for isotropic radiator arrays of M = 1, 2, and 3 elements. \n",
    "\n",
    "\n",
    "\n",
    "(b) Plot the SNR CDFs with the analytical CDFs superimposed. \n",
    "\n",
    "(c) Plot the average SNR versus number of elements with the analytical result superimposed. \n",
    "\n",
    "(d) What happens if the array elements are very close together?"
   ]
  },
  {
   "cell_type": "code",
   "execution_count": null,
   "metadata": {},
   "outputs": [
    {
     "data": {
      "image/png": "[encoded data removed]",
      "text/plain": [
       "<Figure size 640x480 with 1 Axes>"
      ]
     },
     "metadata": {},
     "output_type": "display_data"
    },
    {
     "name": "stdout",
     "output_type": "stream",
     "text": [
      "Selected SNR:  100.77444206533762\n"
     ]
    }
   ],
   "source": [
    "# Scatterer multipath propagation model\n",
    "\n",
    "import numpy as np\n",
    "import matplotlib.pyplot as plt\n",
    "\n",
    "# variables\n",
    "points = 10000\n",
    "bins = 200\n",
    "\n",
    "# parameters\n",
    "f = 1e9\n",
    "c0 = 3e8\n",
    "lam = c0/f\n",
    "k = 2*np.pi/lam\n",
    "eta = 377\n",
    "Gr = 10**(1/10)\n",
    "\n",
    "# transmitter location\n",
    "x_t = 0\n",
    "y_t = 0\n",
    "\n",
    "# locations for receiver\n",
    "x_r = np.linspace(-10, 10, points)\n",
    "y_r = np.zeros(points)\n",
    "\n",
    "# scatter points\n",
    "x_s = np.random.uniform(-10, 10, points)\n",
    "y_s = np.random.uniform(-10, 10, points)\n",
    "\n",
    "# receiver model\n",
    "M = [1, 2, 3]                       # number of elements\n",
    "E = np.zeros(points, dtype=complex) # received field\n",
    "x_r_e = [0, lam/2, lam]             # element positions within the array\n",
    "ref_coef = -1                       # reflection coefficient\n",
    "selected_snr = 0                    # maximum SNRs\n",
    "\n",
    "# Noise power\n",
    "k_B = 1.38e-23  # Boltzmann constant\n",
    "T0 = 290        # Noise temperature\n",
    "B = 1e6         # Bandwidth\n",
    "N_0 = k_B*T0*B  # Noise power\n",
    "\n",
    "# (a) plot the SNR as a function of time for a moving receiver \n",
    "# using spatial diversity with a simple selection algorithm, \n",
    "# for isotropic radiator arrays of M = 1, 2, and 3 elements.  \n",
    "\n",
    "for m in range(0,points):\n",
    "    for n in range(0,M[0]):\n",
    "        # distance between scatterer and receiver\n",
    "        delta_r = np.sqrt((x_t-x_s[m])**2+(y_t-y_s[m])**2) - np.sqrt((x_s[m]-(x_r[m]+x_r_e[n]))**2+(y_s[m]-y_r[m])**2) \n",
    "        # received field\n",
    "        E[m] = 1+ref_coef*np.exp(-1j*k*delta_r)\n",
    "    \n",
    "    # calculate the SNR\n",
    "    S = np.abs(E)**2/(2*eta)            # power spectral density\n",
    "    Prec = S*lam**2*Gr / (4*np.pi)      # Received power\n",
    "    SNRs = Prec/ N_0                    # SNR\n",
    "\n",
    "    selected_snr = np.max(SNRs, axis=0) # Max SNR\n",
    "    print(\"Selected SNR: \", 10 * np.log10(selected_snr))\n"
   ]
  }
 ],
 "metadata": {
  "kernelspec": {
   "display_name": "Python 3",
   "language": "python",
   "name": "python3"
  },
  "language_info": {
   "codemirror_mode": {
    "name": "ipython",
    "version": 3
   },
   "file_extension": ".py",
   "mimetype": "text/x-python",
   "name": "python",
   "nbconvert_exporter": "python",
   "pygments_lexer": "ipython3",
   "version": "3.12.9"
  }
 },
 "nbformat": 4,
 "nbformat_minor": 2
}
