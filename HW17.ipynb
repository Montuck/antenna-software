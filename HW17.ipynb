{
 "cells": [
  {
   "cell_type": "markdown",
   "metadata": {},
   "source": [
    "1. (a) For a single antenna with input impedance 50Ω and ohmic resistance 1Ω, find the radiation efficiency as a transmitter.\n",
    "\n",
    "Unsurprisingly we continue to use the ARAT form to solve the problem. The radiation efficiency of the antenna as a transmitter is\n",
    "\n",
    "$$ \\eta_{rad}=\\frac{2}{|I_0|^2}\\frac{w^H_{tx}Aw_{tx}}{w^H_{tx}\\Re[Z_A]w_{tx}} $$"
   ]
  },
  {
   "cell_type": "code",
   "execution_count": 28,
   "metadata": {},
   "outputs": [
    {
     "name": "stdout",
     "output_type": "stream",
     "text": [
      "Radiation Efficiency: \n",
      " [[1.]]\n"
     ]
    }
   ],
   "source": [
    "#### Finding the radiation efficiency of single antenna element #### \n",
    "\n",
    "## Imports ##\n",
    "import numpy as np\n",
    "\n",
    "## Parameters ##\n",
    "Zin  = np.array([[50]])\n",
    "res_ohm = 1\n",
    "I0 = 1\n",
    "w = np.array([[1]])\n",
    "\n",
    "## calculations ##\n",
    "A = I0*Zin/2\n",
    "eta_rad = 2 * (w.conj().T @ A @ w) / (w.conj().T @ Zin @ w) / (np.abs(I0)**2)\n",
    "\n",
    "print(\"Radiation Efficiency: \\n\", eta_rad)"
   ]
  },
  {
   "cell_type": "markdown",
   "metadata": {},
   "source": [
    "(b) Considering the same antenna as a receiver in thermal equilibrium with an isotropic thermal noise environment with brightness temperature 290K, find the external noise power in 1 MHz bandwidth using Eq. (5.43), the loss noise power using Eq. (5.46), and the isotropic noise response using Eq. (5.44).\n",
    "\n",
    "External noise power\n",
    "\n",
    "$$ R_{ext,iso,oc} = 8k_BT_{iso}B*R_{rad} $$\n",
    "\n",
    "Loss noise power\n",
    "\n",
    "$$ R_{loss,oc}=8k_BT_{ph}BR_{A,loss} $$\n",
    "\n",
    "Isotropic noise response\n",
    "\n",
    "$$ R_{t,iso,oc} = 8k_BT_{iso}B\\Re[Z_A] $$\n",
    "\n",
    "Where $$R_{rad} = \\Re[Z_A] - R_{A,loss}$$\n",
    "\n",
    "And because we are in thermal equilibrium $T_{ph} = T_{iso} $"
   ]
  },
  {
   "cell_type": "code",
   "execution_count": 29,
   "metadata": {},
   "outputs": [
    {
     "name": "stdout",
     "output_type": "stream",
     "text": [
      "External noise power [dB]:  [[-118.04436849]]\n",
      "Loss noise power [dB]:  -134.94632928707864\n",
      "Isotropic noise response [dB]:  [[-117.95662924]]\n"
     ]
    }
   ],
   "source": [
    "#### Finding the external noise power ####\n",
    "kB = 1.38e-23\n",
    "Tiso = 290\n",
    "B = 1e6\n",
    "R_rad = Zin - res_ohm\n",
    "R_ext = 8*kB*Tiso*B*R_rad\n",
    "print(\"External noise power [dB]: \", 10*np.log10(R_ext))\n",
    "R_loss =8*kB*Tiso*B*res_ohm\n",
    "print(\"Loss noise power [dB]: \", 10*np.log10(R_loss))\n",
    "R_t = 8*kB*Tiso*B*Zin\n",
    "print(\"Isotropic noise response [dB]: \", 10*np.log10(R_t))\n"
   ]
  },
  {
   "cell_type": "markdown",
   "metadata": {},
   "source": [
    "(c) From these values, compute the receiving efficiency of the antenna\n",
    "\n",
    "$$ \\eta_{rec}= \\frac{P_{ext}}{P_{ext} + P_{loss}} $$"
   ]
  },
  {
   "cell_type": "code",
   "execution_count": 30,
   "metadata": {},
   "outputs": [
    {
     "name": "stdout",
     "output_type": "stream",
     "text": [
      "Receiver efficiency:  [[0.98]]\n"
     ]
    }
   ],
   "source": [
    "#### Receiving efficiency ####\n",
    "eta_rec = R_ext / (R_ext + R_loss)\n",
    "print(\"Receiver efficiency: \", eta_rec)"
   ]
  }
 ],
 "metadata": {
  "kernelspec": {
   "display_name": "Python 3",
   "language": "python",
   "name": "python3"
  },
  "language_info": {
   "codemirror_mode": {
    "name": "ipython",
    "version": 3
   },
   "file_extension": ".py",
   "mimetype": "text/x-python",
   "name": "python",
   "nbconvert_exporter": "python",
   "pygments_lexer": "ipython3",
   "version": "3.11.9"
  }
 },
 "nbformat": 4,
 "nbformat_minor": 2
}
