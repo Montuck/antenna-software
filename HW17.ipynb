{
 "cells": [
  {
   "cell_type": "markdown",
   "metadata": {},
   "source": [
    "1. (a) For a single antenna with input impedance 50Ω and ohmic resistance 1Ω, find the radiation efficiency as a transmitter.\n",
    "\n"
   ]
  },
  {
   "cell_type": "code",
   "execution_count": null,
   "metadata": {},
   "outputs": [],
   "source": [
    "# \n",
    "Zin  = 50\n",
    "res_ohm = 1\n"
   ]
  },
  {
   "cell_type": "markdown",
   "metadata": {},
   "source": [
    "(b) Considering the same antenna as a receiver in thermal equilibrium with an isotropic thermal noise environment with brightness temperature 290K, find the external noise power in 1 MHz bandwidth using Eq. (5.43), the loss noise power using Eq. (5.46), and the isotropic noise response using Eq. (5.44)."
   ]
  },
  {
   "cell_type": "markdown",
   "metadata": {},
   "source": [
    "(c) From these values, compute the receiving efficiency of the antenna"
   ]
  }
 ],
 "metadata": {
  "kernelspec": {
   "display_name": "Python 3",
   "language": "python",
   "name": "python3"
  },
  "language_info": {
   "name": "python",
   "version": "3.12.9"
  }
 },
 "nbformat": 4,
 "nbformat_minor": 2
}
