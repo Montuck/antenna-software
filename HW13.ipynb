{
 "cells": [
  {
   "cell_type": "markdown",
   "metadata": {},
   "source": [
    "Create a model for the mutual impedance matrix of an array of parallel dipole antenna elements. Choose from the following options for the model:\n",
    "\n",
    " Commercial software package: If you have access to software like HFSS, EMPIRE, studentversion of FEKO, NEC, or any other similar package, use the commercial package to find the mutual impedance matrix and open circuit loaded embedded element patterns for the dipole array.\n",
    "\n",
    " I am goint to use HFSS"
   ]
  },
  {
   "cell_type": "markdown",
   "metadata": {},
   "source": [
    "Problem 4.8\n",
    "\n",
    "Write a script to find the directivity of a 4 element ULA of isotropic radiators using the overlap integral. Plot the broadside directivity as a function of element spacing over the range $0 \\leq d \\leq 3\\lambda$. \n",
    "\n",
    "Overlay the directivity obtained with the conjugate field match solution."
   ]
  },
  {
   "cell_type": "code",
   "execution_count": null,
   "metadata": {
    "vscode": {
     "languageId": "plaintext"
    }
   },
   "outputs": [],
   "source": []
  }
 ],
 "metadata": {
  "language_info": {
   "name": "python"
  }
 },
 "nbformat": 4,
 "nbformat_minor": 2
}
