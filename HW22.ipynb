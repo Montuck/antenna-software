{
 "cells": [
  {
   "cell_type": "markdown",
   "id": "e1294e61",
   "metadata": {},
   "source": [
    "1. Modify the multipath model from the previous homework assignments so that the transmitter is an array of Nt elements and the receiver is an array of Nr elements. Generate a sequence of a few hundred channel matrices for 4 transmit and 4 receive antennas with optimal element spacing (0.4λ) as the transmitter or receiver moves. Compute the capacity for each channel realization based on the water-filling solution for a given “SNR” (PT/σ2 w) and average over the channels.\n",
    "\n",
    "a. Plot the average channel capacity as a function of PT/σ2 w over an appropriate range such as 0 to 30 dB. Use a semilogy scale for the vertical axis (capacity) and dB for the horizontal axis (SNR). Include on the same plot the SISO capacity for one transmit and one receive element and the uninformed channel capacity, with a legend or annotation that labels each curve.\n",
    "\n",
    "b. What happens to the capacity as the number of multipaths becomes small"
   ]
  },
  {
   "cell_type": "code",
   "execution_count": null,
   "id": "925d9fd7",
   "metadata": {},
   "outputs": [],
   "source": [
    "# Scatterer multipath propagation model\n",
    "import numpy as np\n",
    "import matplotlib.pyplot as plt\n",
    "from scipy.special import j0\n",
    "\n",
    "# parameters\n",
    "f = 1e9\n",
    "c0 = 3e8\n",
    "lam = c0/f\n",
    "k = 2*np.pi/lam\n",
    "eta = 377\n",
    "Gr = 10**(1/10)\n",
    "\n",
    "## Using the same propagation model from the previous assignment ##\n",
    "\n",
    "# number of points to simulate\n",
    "points = 300\n",
    "\n",
    "# scatter points\n",
    "x_s = np.random.uniform(-10, 10, points)\n",
    "y_s = np.random.uniform(-10, 10, points)\n",
    "\n",
    "\n",
    "# transmitter is an array of Nt elements \n",
    "# and the receiver is an array of Nr elements.\n",
    "# Generate a sequence of a few hundred channel \n",
    "# matrices for 4 transmit and 4 receive \n",
    "# antennas with optimal element spacing (0.4λ)\n",
    "Nt = 4      # number transmitting elements\n",
    "Nr = 4      # number receiving elements\n",
    "d = 0.4*lam # element spacing\n",
    "\n",
    "# transmitter location\n",
    "x_t = 0\n",
    "y_t = 0\n",
    "\n",
    "# moving receiver locations\n",
    "x_r = np.linspace(-10, 10, points)\n",
    "y_r = np.zeros(points)\n",
    "\n",
    "# receiver model\n",
    "Er = np.zeros([points, Nr], dtype=complex)    # received field\n",
    "ref_coef = -1                               # reflection coefficient\n",
    "\n",
    "for m in range(0,points):\n",
    "\n",
    "    # calculate the fields\n",
    "    for n in range(0,Nr):\n",
    "        # element positions within the tx array\n",
    "        x_t_e = x_t + n*d\n",
    "\n",
    "        # element positions within the moving rx array\n",
    "        x_r_e = x_r[m] + n*d    \n",
    "        \n",
    "        # distance between scatterer and receiver\n",
    "        delta_r = np.sqrt((x_t_e - x_s[m])**2 + (y_t - y_s[m])**2) \\\n",
    "                - np.sqrt((x_s[m] - x_r_e)**2 + (y_s[m] - y_r[m])**2)\n",
    "        \n",
    "        # received field\n",
    "        Er[m, n] = 1+ref_coef*np.exp(-1j*k*delta_r)"
   ]
  },
  {
   "cell_type": "markdown",
   "id": "b62090c8",
   "metadata": {},
   "source": [
    "2. Change your model to use circular arrays with 10 elements or so spaced a half wavelength apart so that the arrays can control the radiation patterns in all directions. For a propagation environment model with two or three multipaths, plot the eigenpatterns at the transmit or receive side corresponding to the largest two or three singular values of the channel matrix. Relate these patterns to the physical channel. This can be done by overlaying polar plots of the patterns on an x-y plot of the receiver, transmitter, and scatterer locations."
   ]
  }
 ],
 "metadata": {
  "kernelspec": {
   "display_name": "Python 3",
   "language": "python",
   "name": "python3"
  },
  "language_info": {
   "name": "python",
   "version": "3.12.9"
  }
 },
 "nbformat": 4,
 "nbformat_minor": 5
}
