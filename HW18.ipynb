{
 "cells": [
  {
   "cell_type": "markdown",
   "metadata": {},
   "source": [
    "1. Numerically simulate a Rayleigh multipath channel. Choose a transmitter location $(x_t, y_t)$, an array of locations $[x_r(t_m), y_r(t_m)]$ modeling a moving receiver, and random coordinates $(x_n, y_n)$ for Ns scatterers. The receiver should at least be a few wavelengths in total and a fraction of a wavelength in each time step. Model the electric field intensity at the receiver using $ E = \\sum_{n=1}^{N_s} R_n e^{−jkr_n} /r_n$, where $R_n$ is a reflection coefficient and $r_n$ is the total path distance from the transmitter to the nth scatterer and then to the receiver. For a simple channel model, $R_n = 1$, or the reflection coefficient can be uniformly distributed with magnitude between zero and one.\n",
    "\n",
    "(a) Plot the time history of the received power on a dB scale"
   ]
  },
  {
   "cell_type": "code",
   "execution_count": null,
   "metadata": {},
   "outputs": [],
   "source": [
    "# imports\n",
    "import numpy as np\n",
    "\n",
    "# transmitter location\n",
    "tx_loc = [0, 0]\n",
    "\n",
    "# array of locations for receiver\n",
    "rx_locs = np.array([[0,0],\n",
    "                    [1,1],\n",
    "                    [2,2],\n",
    "                    [3,3],\n",
    "                    [4,4]])"
   ]
  }
 ],
 "metadata": {
  "kernelspec": {
   "display_name": "Python 3",
   "language": "python",
   "name": "python3"
  },
  "language_info": {
   "codemirror_mode": {
    "name": "ipython",
    "version": 3
   },
   "file_extension": ".py",
   "mimetype": "text/x-python",
   "name": "python",
   "nbconvert_exporter": "python",
   "pygments_lexer": "ipython3",
   "version": "3.12.9"
  }
 },
 "nbformat": 4,
 "nbformat_minor": 2
}
